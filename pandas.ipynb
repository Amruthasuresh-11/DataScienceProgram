{
 "cells": [
  {
   "cell_type": "code",
   "execution_count": 23,
   "id": "5039465a-9efc-4978-9f38-9aa746a71eed",
   "metadata": {},
   "outputs": [
    {
     "name": "stdout",
     "output_type": "stream",
     "text": [
      "      Name Department  Marks\n",
      "0  Amrutha        MCA   93.0\n",
      "1      Anu      Btech   90.0\n",
      "2     Amal        MCA   80.0\n",
      "3   Sruthi      Maths   70.0\n",
      "4  Jayanth      Maths   85.0\n",
      "5   Anseef        MCA    NaN\n"
     ]
    }
   ],
   "source": [
    "import numpy as np\n",
    "import matplotlib.pyplot as plt\n",
    "import pandas as pd\n",
    "data={'Name':['Amrutha','Anu','Amal','Sruthi','Jayanth','Anseef'],\n",
    "      'Department':['MCA','Btech','MCA','Maths','Maths','MCA'],\n",
    "      'Marks':[93,90,80,70,85,np.nan]}\n",
    "df=pd.DataFrame(data)\n",
    "print(df)"
   ]
  },
  {
   "cell_type": "code",
   "execution_count": 24,
   "id": "2b5bc2f9-a2da-4e3b-8d91-e41f9c171a9c",
   "metadata": {},
   "outputs": [
    {
     "name": "stdout",
     "output_type": "stream",
     "text": [
      "first 5 records\n"
     ]
    },
    {
     "data": {
      "text/html": [
       "<div>\n",
       "<style scoped>\n",
       "    .dataframe tbody tr th:only-of-type {\n",
       "        vertical-align: middle;\n",
       "    }\n",
       "\n",
       "    .dataframe tbody tr th {\n",
       "        vertical-align: top;\n",
       "    }\n",
       "\n",
       "    .dataframe thead th {\n",
       "        text-align: right;\n",
       "    }\n",
       "</style>\n",
       "<table border=\"1\" class=\"dataframe\">\n",
       "  <thead>\n",
       "    <tr style=\"text-align: right;\">\n",
       "      <th></th>\n",
       "      <th>Name</th>\n",
       "      <th>Department</th>\n",
       "      <th>Marks</th>\n",
       "    </tr>\n",
       "  </thead>\n",
       "  <tbody>\n",
       "    <tr>\n",
       "      <th>0</th>\n",
       "      <td>Amrutha</td>\n",
       "      <td>MCA</td>\n",
       "      <td>93.0</td>\n",
       "    </tr>\n",
       "    <tr>\n",
       "      <th>1</th>\n",
       "      <td>Anu</td>\n",
       "      <td>Btech</td>\n",
       "      <td>90.0</td>\n",
       "    </tr>\n",
       "    <tr>\n",
       "      <th>2</th>\n",
       "      <td>Amal</td>\n",
       "      <td>MCA</td>\n",
       "      <td>80.0</td>\n",
       "    </tr>\n",
       "    <tr>\n",
       "      <th>3</th>\n",
       "      <td>Sruthi</td>\n",
       "      <td>Maths</td>\n",
       "      <td>70.0</td>\n",
       "    </tr>\n",
       "    <tr>\n",
       "      <th>4</th>\n",
       "      <td>Jayanth</td>\n",
       "      <td>Maths</td>\n",
       "      <td>85.0</td>\n",
       "    </tr>\n",
       "  </tbody>\n",
       "</table>\n",
       "</div>"
      ],
      "text/plain": [
       "      Name Department  Marks\n",
       "0  Amrutha        MCA   93.0\n",
       "1      Anu      Btech   90.0\n",
       "2     Amal        MCA   80.0\n",
       "3   Sruthi      Maths   70.0\n",
       "4  Jayanth      Maths   85.0"
      ]
     },
     "execution_count": 24,
     "metadata": {},
     "output_type": "execute_result"
    }
   ],
   "source": [
    "print(\"first 5 records\")\n",
    "df.head()"
   ]
  },
  {
   "cell_type": "code",
   "execution_count": 25,
   "id": "41a47afc-0eda-4bd5-8331-1931ecdcbe5f",
   "metadata": {},
   "outputs": [
    {
     "name": "stdout",
     "output_type": "stream",
     "text": [
      "Number of students: 6\n"
     ]
    }
   ],
   "source": [
    "print(\"Number of students:\",len(df))"
   ]
  },
  {
   "cell_type": "code",
   "execution_count": 26,
   "id": "c4d3908a-175b-4e6d-97f9-7f4091454f39",
   "metadata": {},
   "outputs": [
    {
     "name": "stdout",
     "output_type": "stream",
     "text": [
      "count of students in each department\n",
      "Department\n",
      "MCA      3\n",
      "Maths    2\n",
      "Btech    1\n",
      "Name: count, dtype: int64\n"
     ]
    }
   ],
   "source": [
    "print(\"count of students in each department\")\n",
    "dept_count=df['Department'].value_counts()\n",
    "print(dept_count)"
   ]
  },
  {
   "cell_type": "code",
   "execution_count": 27,
   "id": "16b2df0b-a10d-4682-ab8c-549da4eb55f5",
   "metadata": {},
   "outputs": [
    {
     "name": "stdout",
     "output_type": "stream",
     "text": [
      "Students with mark greater than 75\n",
      "      Name Department  Marks\n",
      "0  Amrutha        MCA   93.0\n",
      "1      Anu      Btech   90.0\n",
      "2     Amal        MCA   80.0\n",
      "4  Jayanth      Maths   85.0\n"
     ]
    }
   ],
   "source": [
    "print(\"Students with mark greater than 75\")\n",
    "print(df[df['Marks'] >75])"
   ]
  },
  {
   "cell_type": "code",
   "execution_count": 29,
   "id": "9015de23-28ea-4e39-8489-f010005626ae",
   "metadata": {},
   "outputs": [
    {
     "data": {
      "text/html": [
       "<div>\n",
       "<style scoped>\n",
       "    .dataframe tbody tr th:only-of-type {\n",
       "        vertical-align: middle;\n",
       "    }\n",
       "\n",
       "    .dataframe tbody tr th {\n",
       "        vertical-align: top;\n",
       "    }\n",
       "\n",
       "    .dataframe thead th {\n",
       "        text-align: right;\n",
       "    }\n",
       "</style>\n",
       "<table border=\"1\" class=\"dataframe\">\n",
       "  <thead>\n",
       "    <tr style=\"text-align: right;\">\n",
       "      <th></th>\n",
       "      <th>Marks</th>\n",
       "    </tr>\n",
       "  </thead>\n",
       "  <tbody>\n",
       "    <tr>\n",
       "      <th>count</th>\n",
       "      <td>6.000000</td>\n",
       "    </tr>\n",
       "    <tr>\n",
       "      <th>mean</th>\n",
       "      <td>83.600000</td>\n",
       "    </tr>\n",
       "    <tr>\n",
       "      <th>std</th>\n",
       "      <td>8.114185</td>\n",
       "    </tr>\n",
       "    <tr>\n",
       "      <th>min</th>\n",
       "      <td>70.000000</td>\n",
       "    </tr>\n",
       "    <tr>\n",
       "      <th>25%</th>\n",
       "      <td>80.900000</td>\n",
       "    </tr>\n",
       "    <tr>\n",
       "      <th>50%</th>\n",
       "      <td>84.300000</td>\n",
       "    </tr>\n",
       "    <tr>\n",
       "      <th>75%</th>\n",
       "      <td>88.750000</td>\n",
       "    </tr>\n",
       "    <tr>\n",
       "      <th>max</th>\n",
       "      <td>93.000000</td>\n",
       "    </tr>\n",
       "  </tbody>\n",
       "</table>\n",
       "</div>"
      ],
      "text/plain": [
       "           Marks\n",
       "count   6.000000\n",
       "mean   83.600000\n",
       "std     8.114185\n",
       "min    70.000000\n",
       "25%    80.900000\n",
       "50%    84.300000\n",
       "75%    88.750000\n",
       "max    93.000000"
      ]
     },
     "execution_count": 29,
     "metadata": {},
     "output_type": "execute_result"
    }
   ],
   "source": [
    "df.describe()"
   ]
  },
  {
   "cell_type": "code",
   "execution_count": 30,
   "id": "54d3267e-9712-4ad1-8168-32018a683396",
   "metadata": {},
   "outputs": [
    {
     "name": "stdout",
     "output_type": "stream",
     "text": [
      "After filling missing marks:\n",
      "      Name Department  Marks\n",
      "0  Amrutha        MCA   93.0\n",
      "1      Anu      Btech   90.0\n",
      "2     Amal        MCA   80.0\n",
      "3   Sruthi      Maths   70.0\n",
      "4  Jayanth      Maths   85.0\n",
      "5   Anseef        MCA   83.6\n"
     ]
    },
    {
     "name": "stderr",
     "output_type": "stream",
     "text": [
      "/tmp/ipykernel_2468/1584081508.py:1: FutureWarning: A value is trying to be set on a copy of a DataFrame or Series through chained assignment using an inplace method.\n",
      "The behavior will change in pandas 3.0. This inplace method will never work because the intermediate object on which we are setting values always behaves as a copy.\n",
      "\n",
      "For example, when doing 'df[col].method(value, inplace=True)', try using 'df.method({col: value}, inplace=True)' or df[col] = df[col].method(value) instead, to perform the operation inplace on the original object.\n",
      "\n",
      "\n",
      "  df['Marks'].fillna(df['Marks'].mean(),inplace=True)\n"
     ]
    }
   ],
   "source": [
    "df['Marks'].fillna(df['Marks'].mean(),inplace=True)\n",
    "print(\"After filling missing marks:\")\n",
    "print(df)"
   ]
  },
  {
   "cell_type": "code",
   "execution_count": 32,
   "id": "0a050f8d-2956-4fd8-8de3-4ab118a8e7e0",
   "metadata": {},
   "outputs": [
    {
     "name": "stdout",
     "output_type": "stream",
     "text": [
      "Data with grade column\n",
      "      Name Department  Marks Grade\n",
      "0  Amrutha        MCA   93.0     A\n",
      "1      Anu      Btech   90.0     A\n",
      "2     Amal        MCA   80.0     B\n",
      "3   Sruthi      Maths   70.0     C\n",
      "4  Jayanth      Maths   85.0     B\n",
      "5   Anseef        MCA   83.6     B\n"
     ]
    }
   ],
   "source": [
    "def grade(m):\n",
    "    if m>=90:\n",
    "        return 'A'\n",
    "    elif m>=80:\n",
    "        return 'B'\n",
    "    elif m>=70:\n",
    "        return 'C'\n",
    "    elif m>=60:\n",
    "        return 'D'\n",
    "    else :\n",
    "        return 'F'\n",
    "df['Grade']=df['Marks'].apply(grade)\n",
    "print(\"Data with grade column\")\n",
    "print(df)"
   ]
  },
  {
   "cell_type": "code",
   "execution_count": 33,
   "id": "2f9cfb5a-3a73-4b03-a834-5487b8b497af",
   "metadata": {},
   "outputs": [
    {
     "name": "stdout",
     "output_type": "stream",
     "text": [
      "Department-wise average marks\n",
      "Department\n",
      "Btech    90.000000\n",
      "MCA      85.533333\n",
      "Maths    77.500000\n",
      "Name: Marks, dtype: float64\n"
     ]
    }
   ],
   "source": [
    "print(\"Department-wise average marks\")\n",
    "dept_avg=df.groupby('Department')['Marks'].mean()\n",
    "print(dept_avg)"
   ]
  },
  {
   "cell_type": "code",
   "execution_count": 34,
   "id": "264fcc2c-4d9e-4646-a1c0-8e57e7ee2d04",
   "metadata": {},
   "outputs": [
    {
     "data": {
      "image/png": "[encoded data removed]",
      "text/plain": [
       "<Figure size 640x480 with 1 Axes>"
      ]
     },
     "metadata": {},
     "output_type": "display_data"
    }
   ],
   "source": [
    "df['Department'].value_counts().plot(kind='bar')\n",
    "plt.title(\"Number of students per Department\")\n",
    "plt.xlabel(\"deparment\")\n",
    "plt.ylabel(\"no:of students\")\n",
    "plt.show()"
   ]
  },
  {
   "cell_type": "code",
   "execution_count": 36,
   "id": "2394ab97-a5cc-4e1b-adbf-09a433841460",
   "metadata": {},
   "outputs": [
    {
     "name": "stdout",
     "output_type": "stream",
     "text": [
      "high scores exported to 'high_scores.csv'\n"
     ]
    }
   ],
   "source": [
    "high_scores=df[df['Marks']>=90]\n",
    "high_scores.to_csv(\"high_scores.csv\",index=False)\n",
    "print(\"high scores exported to 'high_scores.csv'\")"
   ]
  },
  {
   "cell_type": "code",
   "execution_count": null,
   "id": "a1e25a0c-54da-4256-8ac4-deeb001d98b7",
   "metadata": {},
   "outputs": [],
   "source": []
  }
 ],
 "metadata": {
  "kernelspec": {
   "display_name": "Python 3 (ipykernel)",
   "language": "python",
   "name": "python3"
  },
  "language_info": {
   "codemirror_mode": {
    "name": "ipython",
    "version": 3
   },
   "file_extension": ".py",
   "mimetype": "text/x-python",
   "name": "python",
   "nbconvert_exporter": "python",
   "pygments_lexer": "ipython3",
   "version": "3.13.5"
  }
 },
 "nbformat": 4,
 "nbformat_minor": 5
}
