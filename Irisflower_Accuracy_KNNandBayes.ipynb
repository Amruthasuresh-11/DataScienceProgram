{
 "cells": [
  {
   "cell_type": "code",
   "execution_count": 28,
   "id": "df964771-6cd1-43ad-af15-5f9e5bb9d2e4",
   "metadata": {},
   "outputs": [
    {
     "name": "stdout",
     "output_type": "stream",
     "text": [
      "Accuracy: 0.9777777777777777\n",
      "['versicolor']\n"
     ]
    }
   ],
   "source": [
    "#Accuracy using knn\n",
    "from sklearn.datasets import load_iris\n",
    "from sklearn.model_selection import train_test_split\n",
    "from sklearn.neighbors import KNeighborsClassifier\n",
    "from sklearn import metrics\n",
    "iris=load_iris()\n",
    "x=iris.data\n",
    "y=iris.target\n",
    "x_train,x_test,y_train,y_test=train_test_split(x,y,test_size=0.3,random_state=1)\n",
    "c_knn=KNeighborsClassifier(n_neighbors=3)\n",
    "c_knn.fit(x_train,y_train)\n",
    "y_pred=c_knn.predict(x_test)\n",
    "print(\"Accuracy:\",metrics.accuracy_score(y_test,y_pred))\n",
    "sample=[[2,2,3,3]]\n",
    "pred=c_knn.predict(sample)\n",
    "pred_v=[str(iris.target_names[p])for p in pred]\n",
    "print(pred_v)"
   ]
  },
  {
   "cell_type": "code",
   "execution_count": 33,
   "id": "d905a345-a673-4dca-96bf-b6ce028abb81",
   "metadata": {},
   "outputs": [
    {
     "name": "stdout",
     "output_type": "stream",
     "text": [
      "[2 1 0 2 0 2 0 1 1 1 1 1 1 1 1 0 1 1 0 0 2 1 0 0 2 0 0 1 1 0 2 1 0 2 2 1 0\n",
      " 1 1 1 2 0 2 0 0 1 2 2 1 2 1 2 1 1 2 1 1 2 1 2 1 0 2 1 1 1 1 2 0 0 2 1 0 0\n",
      " 1]\n",
      "predicted output for[[5,5,4,4]]: [2]\n",
      "Naive Bayes score: 0.9466666666666667\n"
     ]
    }
   ],
   "source": [
    "#Accuracy using Navis Bayes algorithm\n",
    "from sklearn.datasets import load_iris\n",
    "from sklearn.model_selection import train_test_split\n",
    "from sklearn.naive_bayes import GaussianNB\n",
    "x,y=load_iris(return_X_y=True)\n",
    "xtrain,xtest,ytrain,ytest=train_test_split(x,y,test_size=0.5,random_state=0)\n",
    "gnb=GaussianNB()\n",
    "ypred=gnb.fit(xtrain,ytrain).predict(xtest)\n",
    "print(ypred)\n",
    "xnew=[[5,5,4,4]]\n",
    "ynew=gnb.fit(xtrain,ytrain).predict(xnew)\n",
    "print(\"predicted output for[[5,5,4,4]]:\",ynew)\n",
    "print(\"Naive Bayes score:\",gnb.score(xtest,ytest))"
   ]
  },
  {
   "cell_type": "code",
   "execution_count": null,
   "id": "f71ae7c1-f8a4-436e-bfe4-61e75749480c",
   "metadata": {},
   "outputs": [],
   "source": []
  }
 ],
 "metadata": {
  "kernelspec": {
   "display_name": "Python 3 (ipykernel)",
   "language": "python",
   "name": "python3"
  },
  "language_info": {
   "codemirror_mode": {
    "name": "ipython",
    "version": 3
   },
   "file_extension": ".py",
   "mimetype": "text/x-python",
   "name": "python",
   "nbconvert_exporter": "python",
   "pygments_lexer": "ipython3",
   "version": "3.13.5"
  }
 },
 "nbformat": 4,
 "nbformat_minor": 5
}
