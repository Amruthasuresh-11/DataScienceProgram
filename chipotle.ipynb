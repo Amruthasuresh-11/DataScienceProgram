{
 "cells": [
  {
   "cell_type": "code",
   "execution_count": 1,
   "id": "c5237350-79fc-4cf0-99e9-012365ff87df",
   "metadata": {},
   "outputs": [],
   "source": [
    "import pandas as pd"
   ]
  },
  {
   "cell_type": "code",
   "execution_count": 3,
   "id": "765c4343-9624-44ff-8703-a30c697e9c8a",
   "metadata": {},
   "outputs": [],
   "source": [
    "df=pd.read_csv(\"chipotle.tsv\",sep=\"\\t\")"
   ]
  },
  {
   "cell_type": "code",
   "execution_count": 4,
   "id": "0dd5812d-4c19-40bc-a938-7feee80ff9c6",
   "metadata": {},
   "outputs": [
    {
     "data": {
      "text/html": [
       "<div>\n",
       "<style scoped>\n",
       "    .dataframe tbody tr th:only-of-type {\n",
       "        vertical-align: middle;\n",
       "    }\n",
       "\n",
       "    .dataframe tbody tr th {\n",
       "        vertical-align: top;\n",
       "    }\n",
       "\n",
       "    .dataframe thead th {\n",
       "        text-align: right;\n",
       "    }\n",
       "</style>\n",
       "<table border=\"1\" class=\"dataframe\">\n",
       "  <thead>\n",
       "    <tr style=\"text-align: right;\">\n",
       "      <th></th>\n",
       "      <th>order_id</th>\n",
       "      <th>quantity</th>\n",
       "      <th>item_name</th>\n",
       "      <th>choice_description</th>\n",
       "      <th>item_price</th>\n",
       "    </tr>\n",
       "  </thead>\n",
       "  <tbody>\n",
       "    <tr>\n",
       "      <th>0</th>\n",
       "      <td>1</td>\n",
       "      <td>1</td>\n",
       "      <td>Chips and Fresh Tomato Salsa</td>\n",
       "      <td>NaN</td>\n",
       "      <td>$2.39</td>\n",
       "    </tr>\n",
       "    <tr>\n",
       "      <th>1</th>\n",
       "      <td>1</td>\n",
       "      <td>1</td>\n",
       "      <td>Izze</td>\n",
       "      <td>[Clementine]</td>\n",
       "      <td>$3.39</td>\n",
       "    </tr>\n",
       "    <tr>\n",
       "      <th>2</th>\n",
       "      <td>1</td>\n",
       "      <td>1</td>\n",
       "      <td>Nantucket Nectar</td>\n",
       "      <td>[Apple]</td>\n",
       "      <td>$3.39</td>\n",
       "    </tr>\n",
       "    <tr>\n",
       "      <th>3</th>\n",
       "      <td>1</td>\n",
       "      <td>1</td>\n",
       "      <td>Chips and Tomatillo-Green Chili Salsa</td>\n",
       "      <td>NaN</td>\n",
       "      <td>$2.39</td>\n",
       "    </tr>\n",
       "    <tr>\n",
       "      <th>4</th>\n",
       "      <td>2</td>\n",
       "      <td>2</td>\n",
       "      <td>Chicken Bowl</td>\n",
       "      <td>[Tomatillo-Red Chili Salsa (Hot), [Black Beans...</td>\n",
       "      <td>$16.98</td>\n",
       "    </tr>\n",
       "  </tbody>\n",
       "</table>\n",
       "</div>"
      ],
      "text/plain": [
       "   order_id  quantity                              item_name  \\\n",
       "0         1         1           Chips and Fresh Tomato Salsa   \n",
       "1         1         1                                   Izze   \n",
       "2         1         1                       Nantucket Nectar   \n",
       "3         1         1  Chips and Tomatillo-Green Chili Salsa   \n",
       "4         2         2                           Chicken Bowl   \n",
       "\n",
       "                                  choice_description item_price  \n",
       "0                                                NaN     $2.39   \n",
       "1                                       [Clementine]     $3.39   \n",
       "2                                            [Apple]     $3.39   \n",
       "3                                                NaN     $2.39   \n",
       "4  [Tomatillo-Red Chili Salsa (Hot), [Black Beans...    $16.98   "
      ]
     },
     "execution_count": 4,
     "metadata": {},
     "output_type": "execute_result"
    }
   ],
   "source": [
    "df.head()"
   ]
  },
  {
   "cell_type": "code",
   "execution_count": 11,
   "id": "70d2de76-3278-4b25-9300-78b3435e611d",
   "metadata": {},
   "outputs": [],
   "source": [
    "df['item_price']=df['item_price'].str.replace('$',\"\",regex=False).astype(float)\n"
   ]
  },
  {
   "cell_type": "code",
   "execution_count": 14,
   "id": "df7a2b5f-53e8-43ec-927e-7b56eae318ca",
   "metadata": {},
   "outputs": [
    {
     "name": "stdout",
     "output_type": "stream",
     "text": [
      "      order_id  quantity                     item_name  \\\n",
      "3598      1443        15  Chips and Fresh Tomato Salsa   \n",
      "3480      1398         3                 Carnitas Bowl   \n",
      "1254       511         4               Chicken Burrito   \n",
      "3602      1443         4               Chicken Burrito   \n",
      "3601      1443         3                Veggie Burrito   \n",
      "\n",
      "                                     choice_description  item_price  \n",
      "3598                                                NaN       44.25  \n",
      "3480  [Roasted Chili Corn Salsa, [Fajita Vegetables,...       35.25  \n",
      "1254  [Fresh Tomato Salsa, [Fajita Vegetables, Rice,...       35.00  \n",
      "3602  [Fresh Tomato Salsa, [Rice, Black Beans, Chees...       35.00  \n",
      "3601  [Fresh Tomato Salsa, [Fajita Vegetables, Rice,...       33.75  \n"
     ]
    }
   ],
   "source": [
    "df_sorted=df.sort_values(by=\"item_price\",ascending=False)\n",
    "print(df_sorted.head())"
   ]
  },
  {
   "cell_type": "code",
   "execution_count": 15,
   "id": "e0f556fe-c07f-4ad1-9262-2aa9188b517d",
   "metadata": {},
   "outputs": [
    {
     "name": "stdout",
     "output_type": "stream",
     "text": [
      "      order_id  quantity             item_name  \\\n",
      "4            2         2          Chicken Bowl   \n",
      "5            3         1          Chicken Bowl   \n",
      "11           6         1  Chicken Crispy Tacos   \n",
      "12           6         1    Chicken Soft Tacos   \n",
      "13           7         1          Chicken Bowl   \n",
      "...        ...       ...                   ...   \n",
      "4604      1828         1          Chicken Bowl   \n",
      "4615      1832         1    Chicken Soft Tacos   \n",
      "4619      1834         1    Chicken Salad Bowl   \n",
      "4620      1834         1    Chicken Salad Bowl   \n",
      "4621      1834         1    Chicken Salad Bowl   \n",
      "\n",
      "                                     choice_description  item_price  \n",
      "4     [Tomatillo-Red Chili Salsa (Hot), [Black Beans...       16.98  \n",
      "5     [Fresh Tomato Salsa (Mild), [Rice, Cheese, Sou...       10.98  \n",
      "11    [Roasted Chili Corn Salsa, [Fajita Vegetables,...        8.75  \n",
      "12    [Roasted Chili Corn Salsa, [Rice, Black Beans,...        8.75  \n",
      "13    [Fresh Tomato Salsa, [Fajita Vegetables, Rice,...       11.25  \n",
      "...                                                 ...         ...  \n",
      "4604  [Fresh Tomato Salsa, [Rice, Black Beans, Chees...        8.75  \n",
      "4615   [Fresh Tomato Salsa, [Rice, Cheese, Sour Cream]]        8.75  \n",
      "4619  [Fresh Tomato Salsa, [Fajita Vegetables, Pinto...       11.25  \n",
      "4620  [Fresh Tomato Salsa, [Fajita Vegetables, Lettu...        8.75  \n",
      "4621  [Fresh Tomato Salsa, [Fajita Vegetables, Pinto...        8.75  \n",
      "\n",
      "[1560 rows x 5 columns]\n"
     ]
    }
   ],
   "source": [
    "item=df[df[\"item_name\"].str.contains(\"chicken\",case=False)]\n",
    "print(item)"
   ]
  },
  {
   "cell_type": "code",
   "execution_count": 17,
   "id": "26ba7a3f-c72b-4c72-96d6-d7a89f72e429",
   "metadata": {},
   "outputs": [
    {
     "data": {
      "text/html": [
       "<div>\n",
       "<style scoped>\n",
       "    .dataframe tbody tr th:only-of-type {\n",
       "        vertical-align: middle;\n",
       "    }\n",
       "\n",
       "    .dataframe tbody tr th {\n",
       "        vertical-align: top;\n",
       "    }\n",
       "\n",
       "    .dataframe thead th {\n",
       "        text-align: right;\n",
       "    }\n",
       "</style>\n",
       "<table border=\"1\" class=\"dataframe\">\n",
       "  <thead>\n",
       "    <tr style=\"text-align: right;\">\n",
       "      <th></th>\n",
       "      <th>order_id</th>\n",
       "      <th>quantity</th>\n",
       "      <th>item_name</th>\n",
       "      <th>choice_description</th>\n",
       "      <th>item_price</th>\n",
       "    </tr>\n",
       "  </thead>\n",
       "  <tbody>\n",
       "    <tr>\n",
       "      <th>0</th>\n",
       "      <td>1</td>\n",
       "      <td>1</td>\n",
       "      <td>Chips and Fresh Tomato Salsa</td>\n",
       "      <td>NaN</td>\n",
       "      <td>2.39</td>\n",
       "    </tr>\n",
       "    <tr>\n",
       "      <th>1</th>\n",
       "      <td>1</td>\n",
       "      <td>1</td>\n",
       "      <td>Izze</td>\n",
       "      <td>Clementine</td>\n",
       "      <td>3.39</td>\n",
       "    </tr>\n",
       "    <tr>\n",
       "      <th>2</th>\n",
       "      <td>1</td>\n",
       "      <td>1</td>\n",
       "      <td>Nantucket Nectar</td>\n",
       "      <td>Apple</td>\n",
       "      <td>3.39</td>\n",
       "    </tr>\n",
       "    <tr>\n",
       "      <th>3</th>\n",
       "      <td>1</td>\n",
       "      <td>1</td>\n",
       "      <td>Chips and Tomatillo-Green Chili Salsa</td>\n",
       "      <td>NaN</td>\n",
       "      <td>2.39</td>\n",
       "    </tr>\n",
       "    <tr>\n",
       "      <th>4</th>\n",
       "      <td>2</td>\n",
       "      <td>2</td>\n",
       "      <td>Chicken Bowl</td>\n",
       "      <td>Tomatillo-Red Chili Salsa (Hot), Black Beans, ...</td>\n",
       "      <td>16.98</td>\n",
       "    </tr>\n",
       "  </tbody>\n",
       "</table>\n",
       "</div>"
      ],
      "text/plain": [
       "   order_id  quantity                              item_name  \\\n",
       "0         1         1           Chips and Fresh Tomato Salsa   \n",
       "1         1         1                                   Izze   \n",
       "2         1         1                       Nantucket Nectar   \n",
       "3         1         1  Chips and Tomatillo-Green Chili Salsa   \n",
       "4         2         2                           Chicken Bowl   \n",
       "\n",
       "                                  choice_description  item_price  \n",
       "0                                                NaN        2.39  \n",
       "1                                         Clementine        3.39  \n",
       "2                                              Apple        3.39  \n",
       "3                                                NaN        2.39  \n",
       "4  Tomatillo-Red Chili Salsa (Hot), Black Beans, ...       16.98  "
      ]
     },
     "execution_count": 17,
     "metadata": {},
     "output_type": "execute_result"
    }
   ],
   "source": [
    "df['choice_description']=df['choice_description'].str.replace(r\"[\\[\\]]\",\"\",regex=True)\n",
    "df.head()"
   ]
  },
  {
   "cell_type": "code",
   "execution_count": 18,
   "id": "7246f56e-4e2c-42be-90d9-20fac9e0aea5",
   "metadata": {},
   "outputs": [
    {
     "name": "stdout",
     "output_type": "stream",
     "text": [
      "order_id                int64\n",
      "quantity                int64\n",
      "item_name              object\n",
      "choice_description     object\n",
      "item_price            float64\n",
      "dtype: object\n"
     ]
    }
   ],
   "source": [
    "print(df.dtypes)"
   ]
  },
  {
   "cell_type": "code",
   "execution_count": 19,
   "id": "bce7fe3f-f365-4c43-a268-3fc88f7d4555",
   "metadata": {},
   "outputs": [
    {
     "name": "stdout",
     "output_type": "stream",
     "text": [
      "float64\n"
     ]
    }
   ],
   "source": [
    "print(df['item_price'].dtype)"
   ]
  },
  {
   "cell_type": "code",
   "execution_count": null,
   "id": "7043967d-4b35-4038-b25e-78b9c0366f5d",
   "metadata": {},
   "outputs": [],
   "source": []
  }
 ],
 "metadata": {
  "kernelspec": {
   "display_name": "Python 3 (ipykernel)",
   "language": "python",
   "name": "python3"
  },
  "language_info": {
   "codemirror_mode": {
    "name": "ipython",
    "version": 3
   },
   "file_extension": ".py",
   "mimetype": "text/x-python",
   "name": "python",
   "nbconvert_exporter": "python",
   "pygments_lexer": "ipython3",
   "version": "3.11.5"
  }
 },
 "nbformat": 4,
 "nbformat_minor": 5
}
