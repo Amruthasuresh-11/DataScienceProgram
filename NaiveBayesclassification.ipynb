{
 "cells": [
  {
   "cell_type": "code",
   "execution_count": 5,
   "id": "b5e6d211-e3fe-43ea-b858-022b2acf37e0",
   "metadata": {},
   "outputs": [
    {
     "name": "stdout",
     "output_type": "stream",
     "text": [
      "Prediction (Has flu?): Y\n",
      "Class probabilities: [[0.30509228 0.69490772]]\n"
     ]
    }
   ],
   "source": [
    "import numpy as np\n",
    "from sklearn.preprocessing import LabelEncoder\n",
    "from sklearn.naive_bayes import CategoricalNB\n",
    "data=[['Y','N','mild','Y','N'],\n",
    "      ['Y','Y','no','N','Y'],\n",
    "      ['Y','N','strong','Y','Y'],\n",
    "      ['N','Y','mild','Y','Y'],\n",
    "      ['N','N','no','N','N'],\n",
    "      ['N','Y','strong','Y','Y'],\n",
    "      ['N','Y','strong','N','N'],\n",
    "      ['Y','Y','mild','Y','Y']]\n",
    "X = [row[:-1] for row in data]\n",
    "y = [row[-1] for row in data]\n",
    "\n",
    "encoders = [LabelEncoder() for _ in range(len(X[0]))]\n",
    "\n",
    "X_encoded = np.array([encoders[i].fit_transform([row[i] for row in X]) for i in range(len(X[0]))]).T\n",
    "y_encoder = LabelEncoder()\n",
    "y_encoded = y_encoder.fit_transform(y)\n",
    "\n",
    "model = CategoricalNB()\n",
    "model.fit(X_encoded, y_encoded)\n",
    "\n",
    "test_instance = ['Y','N','mild','Y']\n",
    "test_encoded = np.array([encoders[i].transform([test_instance[i]])[0] for i in range(len(test_instance))]).reshape(1, -1)\n",
    "\n",
    "pred = model.predict(test_encoded)\n",
    "pred_proba = model.predict_proba(test_encoded)\n",
    "\n",
    "print(\"Prediction (Has flu?):\", y_encoder.inverse_transform(pred)[0])\n",
    "print(\"Class probabilities:\", pred_proba)\n",
    "\n"
   ]
  },
  {
   "cell_type": "code",
   "execution_count": null,
   "id": "d2426a07-28fc-4eb2-8071-b0ecd7a2ea1b",
   "metadata": {},
   "outputs": [],
   "source": []
  }
 ],
 "metadata": {
  "kernelspec": {
   "display_name": "Python 3 (ipykernel)",
   "language": "python",
   "name": "python3"
  },
  "language_info": {
   "codemirror_mode": {
    "name": "ipython",
    "version": 3
   },
   "file_extension": ".py",
   "mimetype": "text/x-python",
   "name": "python",
   "nbconvert_exporter": "python",
   "pygments_lexer": "ipython3",
   "version": "3.13.5"
  }
 },
 "nbformat": 4,
 "nbformat_minor": 5
}
